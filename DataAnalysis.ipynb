{
 "cells": [
  {
   "cell_type": "code",
   "execution_count": 26,
   "metadata": {},
   "outputs": [
    {
     "name": "stdout",
     "output_type": "stream",
     "text": [
      "                             OLS Regression Results                            \n",
      "===============================================================================\n",
      "Dep. Variable:     Adjusted Death Rate   R-squared:                       0.089\n",
      "Model:                             OLS   Adj. R-squared:                  0.080\n",
      "Method:                  Least Squares   F-statistic:                     9.960\n",
      "Date:                 Sun, 03 Nov 2024   Prob (F-statistic):           2.78e-06\n",
      "Time:                         18:44:00   Log-Likelihood:                -693.32\n",
      "No. Observations:                  309   AIC:                             1395.\n",
      "Df Residuals:                      305   BIC:                             1410.\n",
      "Df Model:                            3                                         \n",
      "Covariance Type:             nonrobust                                         \n",
      "================================================================================\n",
      "                   coef    std err          t      P>|t|      [0.025      0.975]\n",
      "--------------------------------------------------------------------------------\n",
      "const           15.1646      1.888      8.033      0.000      11.450      18.880\n",
      "% Ozone Days    -2.3243      2.247     -1.034      0.302      -6.746       2.097\n",
      "% PM2.5 Days     0.4263      1.911      0.223      0.824      -3.333       4.186\n",
      "Median AQI      -0.0859      0.032     -2.704      0.007      -0.148      -0.023\n",
      "==============================================================================\n",
      "Omnibus:                       52.179   Durbin-Watson:                   1.885\n",
      "Prob(Omnibus):                  0.000   Jarque-Bera (JB):               91.144\n",
      "Skew:                           0.944   Prob(JB):                     1.62e-20\n",
      "Kurtosis:                       4.874   Cond. No.                     1.01e+03\n",
      "==============================================================================\n",
      "\n",
      "Notes:\n",
      "[1] Standard Errors assume that the covariance matrix of the errors is correctly specified.\n",
      "[2] The condition number is large, 1.01e+03. This might indicate that there are\n",
      "strong multicollinearity or other numerical problems.\n"
     ]
    }
   ],
   "source": [
    "import pandas as pd\n",
    "import statsmodels.api as sm\n",
    "\n",
    "# Load the combined dataset\n",
    "df = pd.read_csv('/Users/smiie/Desktop/RespiratoryHealth/data_processed/combined_asthma_data2.csv')  # Modify the path to where your CSV file is stored\n",
    "\n",
    "# Check the column names and decide on the variables to use\n",
    "#print(df.columns)\n",
    "\n",
    "# Exclude any rows with NA values\n",
    "df = df.dropna()\n",
    "\n",
    "X = df[['% Ozone Days', '% PM2.5 Days', 'Median AQI']]  # Predictor variables\n",
    "y = df['Adjusted Death Rate']  # Response variable\n",
    "\n",
    "# Add a constant to the predictor variable set (required for statsmodels)\n",
    "X = sm.add_constant(X)\n",
    "\n",
    "# Fit the regression model\n",
    "model = sm.OLS(y, X).fit()\n",
    "\n",
    "# Print the summary of the regression\n",
    "print(model.summary())\n"
   ]
  },
  {
   "cell_type": "code",
   "execution_count": 30,
   "metadata": {},
   "outputs": [
    {
     "name": "stdout",
     "output_type": "stream",
     "text": [
      "                                 OLS Regression Results                                \n",
      "=======================================================================================\n",
      "Dep. Variable:     Percent With Current Asthma   R-squared:                       0.051\n",
      "Model:                                     OLS   Adj. R-squared:                  0.038\n",
      "Method:                          Least Squares   F-statistic:                     4.054\n",
      "Date:                         Sun, 03 Nov 2024   Prob (F-statistic):            0.00322\n",
      "Time:                                 18:47:09   Log-Likelihood:                -466.93\n",
      "No. Observations:                          309   AIC:                             943.9\n",
      "Df Residuals:                              304   BIC:                             962.5\n",
      "Df Model:                                    4                                         \n",
      "Covariance Type:                     nonrobust                                         \n",
      "=======================================================================================\n",
      "                          coef    std err          t      P>|t|      [0.025      0.975]\n",
      "---------------------------------------------------------------------------------------\n",
      "const                   1.7747      2.238      0.793      0.428      -2.629       6.178\n",
      "% Ozone Days            3.2440      0.993      3.267      0.001       1.290       5.198\n",
      "% PM2.5 Days            2.6416      0.904      2.923      0.004       0.863       4.420\n",
      "% Good Days             3.8863      1.509      2.576      0.010       0.917       6.855\n",
      "90th Percentile AQI     0.0330      0.016      2.094      0.037       0.002       0.064\n",
      "==============================================================================\n",
      "Omnibus:                        1.109   Durbin-Watson:                   1.931\n",
      "Prob(Omnibus):                  0.574   Jarque-Bera (JB):                1.194\n",
      "Skew:                           0.098   Prob(JB):                        0.550\n",
      "Kurtosis:                       2.767   Cond. No.                     2.57e+03\n",
      "==============================================================================\n",
      "\n",
      "Notes:\n",
      "[1] Standard Errors assume that the covariance matrix of the errors is correctly specified.\n",
      "[2] The condition number is large, 2.57e+03. This might indicate that there are\n",
      "strong multicollinearity or other numerical problems.\n"
     ]
    }
   ],
   "source": [
    "import pandas as pd\n",
    "import statsmodels.api as sm\n",
    "\n",
    "# Load the combined dataset\n",
    "df = pd.read_csv('/Users/smiie/Desktop/RespiratoryHealth/data_processed/combined_asthma_data2.csv')  # Modify the path to where your CSV file is stored\n",
    "\n",
    "# Check the column names and decide on the variables to use\n",
    "#print(df.columns)\n",
    "\n",
    "# Exclude any rows with NA values\n",
    "df = df.dropna()\n",
    "\n",
    "X = df[['% Ozone Days', '% PM2.5 Days', '% Good Days', '90th Percentile AQI']]  # Predictor variables\n",
    "y = df['Percent With Current Asthma']  # Response variable\n",
    "\n",
    "\n",
    "# Add a constant to the predictor variable set (required for statsmodels)\n",
    "X = sm.add_constant(X)\n",
    "\n",
    "# Fit the regression model\n",
    "model = sm.OLS(y, X).fit()\n",
    "\n",
    "# Print the summary of the regression\n",
    "print(model.summary())"
   ]
  }
 ],
 "metadata": {
  "kernelspec": {
   "display_name": "base",
   "language": "python",
   "name": "python3"
  },
  "language_info": {
   "codemirror_mode": {
    "name": "ipython",
    "version": 3
   },
   "file_extension": ".py",
   "mimetype": "text/x-python",
   "name": "python",
   "nbconvert_exporter": "python",
   "pygments_lexer": "ipython3",
   "version": "3.11.8"
  }
 },
 "nbformat": 4,
 "nbformat_minor": 2
}
