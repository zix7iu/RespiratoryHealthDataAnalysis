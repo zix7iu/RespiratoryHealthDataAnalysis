{
 "cells": [
  {
   "cell_type": "markdown",
   "metadata": {},
   "source": [
    "Process raw AQI data downloaded from EPA website, extract and summarize columns for data analysis"
   ]
  },
  {
   "cell_type": "code",
   "execution_count": 26,
   "metadata": {},
   "outputs": [],
   "source": [
    "import pandas as pd\n",
    "import glob\n",
    "import os\n",
    "\n",
    "# Path to the directory containing your CSV files\n",
    "directory_path = './raw_data/Annual_AQI' \n",
    "\n",
    "# Pattern to match all CSV files of interest\n",
    "file_pattern = os.path.join(directory_path, 'annual_aqi_by_county_*.csv')\n",
    "\n",
    "# List to hold data from all files\n",
    "all_data = []"
   ]
  },
  {
   "cell_type": "code",
   "execution_count": 27,
   "metadata": {},
   "outputs": [
    {
     "name": "stdout",
     "output_type": "stream",
     "text": [
      "Data processed and saved to /Users/smiie/Desktop/RespiratoryHealth/data_processed/summary_aqi_by_state2.csv\n"
     ]
    }
   ],
   "source": [
    "# Process each file\n",
    "for file in glob.glob(file_pattern):\n",
    "    df = pd.read_csv(file)\n",
    "    # Calculating percentages of AQI categories\n",
    "    df['% Good Days'] = df['Good Days'] / df['Days with AQI']\n",
    "    df['% Moderate Days'] = df['Moderate Days'] / df['Days with AQI']\n",
    "    df['% Unhealthy for Sensitive Groups Days'] = df['Unhealthy for Sensitive Groups Days'] / df['Days with AQI']\n",
    "    df['% Unhealthy Days'] = df['Unhealthy Days'] / df['Days with AQI']\n",
    "    df['% Very Unhealthy Days'] = df['Very Unhealthy Days'] / df['Days with AQI']\n",
    "    df['% Hazardous Days'] = df['Hazardous Days'] / df['Days with AQI']\n",
    "    df['% Ozone Days'] = df['Days Ozone'] / df['Days with AQI']\n",
    "    df['% PM2.5 Days'] = df['Days PM2.5'] / df['Days with AQI']\n",
    "\n",
    "    # Extract the year from the filename\n",
    "    year = file[-8:-4]  # Assumes the year is always the last four characters before .csv\n",
    "\n",
    "    # Aggregate data by state for the current year\n",
    "    state_summary = df.groupby('State').agg({\n",
    "        '% Good Days': 'mean',\n",
    "        '% Moderate Days': 'mean',\n",
    "        '% Unhealthy for Sensitive Groups Days': 'mean',\n",
    "        '% Unhealthy Days': 'mean',\n",
    "        '% Very Unhealthy Days': 'mean',\n",
    "        '% Hazardous Days': 'mean',\n",
    "        '% Ozone Days': 'mean',\n",
    "        '% PM2.5 Days': 'mean',\n",
    "        '90th Percentile AQI': 'mean',\n",
    "        'Median AQI': 'mean'\n",
    "    }).reset_index()\n",
    "\n",
    "    # Add the year column to the state summary\n",
    "    state_summary['Year'] = year\n",
    "\n",
    "    # Append to the all_data list\n",
    "    all_data.append(state_summary)\n",
    "\n",
    "# Concatenate all dataframes\n",
    "complete_data = pd.concat(all_data, ignore_index=True)\n",
    "\n",
    "# Rearrange columns so that 'Year' is the first column\n",
    "complete_data = complete_data[['Year'] + [col for col in complete_data.columns if col != 'Year']]\n",
    "complete_data = complete_data.round(5)\n",
    "\n",
    "# Save the summarized data to a new CSV file\n",
    "output_path = './data_processed/summary_aqi_by_state2.csv'  \n",
    "complete_data.to_csv(output_path, index=False)\n",
    "\n",
    "print(f\"Data processed and saved to {output_path}\")"
   ]
  },
  {
   "cell_type": "markdown",
   "metadata": {},
   "source": [
    "Below code convert Asthema data extracted from CDC website in Excel into csv file"
   ]
  },
  {
   "cell_type": "code",
   "execution_count": 3,
   "metadata": {},
   "outputs": [
    {
     "name": "stdout",
     "output_type": "stream",
     "text": [
      "Data from 'asthma' sheet exported successfully to /Users/smiie/Desktop/RespiratoryHealth/data_processed/asthma_data.csv\n"
     ]
    }
   ],
   "source": [
    "import pandas as pd\n",
    "\n",
    "# Path to the Excel file\n",
    "excel_path = './raw_data/CDC_Asthma.xlsx'\n",
    "\n",
    "# Path for the output CSV file\n",
    "output_csv_path = './data_processed/asthma_data.csv'\n",
    "\n",
    "# Load the 'asthma' sheet into a DataFrame\n",
    "df = pd.read_excel(excel_path, sheet_name='asthma')\n",
    "\n",
    "df.rename(columns={'State or Territory': 'State'}, inplace=True)\n",
    "\n",
    "# Save the DataFrame to a CSV file\n",
    "df.to_csv(output_csv_path, index=False)\n",
    "\n",
    "print(f\"Data from 'asthma' sheet exported successfully to {output_csv_path}\")"
   ]
  },
  {
   "cell_type": "markdown",
   "metadata": {},
   "source": [
    "Pair and add all data into one single csv file for data analysis"
   ]
  },
  {
   "cell_type": "code",
   "execution_count": 15,
   "metadata": {},
   "outputs": [
    {
     "name": "stdout",
     "output_type": "stream",
     "text": [
      "Combined data saved to /Users/smiie/Desktop/RespiratoryHealth/data_processed/AQI_asthma_combined_data.csv\n"
     ]
    }
   ],
   "source": [
    "import pandas as pd\n",
    "\n",
    "# Load the datasets\n",
    "path_aqi = './data_processed/summary_aqi_by_state.csv'  # Update with the correct path\n",
    "path_asthma = './RespiratoryHealth/data_processed/asthma_data.csv'  # Update with the correct path\n",
    "\n",
    "# Read the CSV files\n",
    "df_aqi = pd.read_csv(path_aqi)\n",
    "df_asthma = pd.read_csv(path_asthma)\n",
    "\n",
    "df_combined = pd.merge(df_aqi, df_asthma, on=['State', 'Year'], how='inner')\n",
    "\n",
    "# Save the combined data to a single CSV file\n",
    "output_path = './RespiratoryHealth/data_processed/AQI_asthma_combined_data.csv'  # Update with the correct path\n",
    "df_combined.to_csv(output_path, index=False)\n",
    "\n",
    "print(f\"Combined data saved to {output_path}\")"
   ]
  },
  {
   "cell_type": "markdown",
   "metadata": {},
   "source": [
    "Convert asthema mortality data from Excel to CSV file"
   ]
  },
  {
   "cell_type": "code",
   "execution_count": 6,
   "metadata": {},
   "outputs": [
    {
     "name": "stdout",
     "output_type": "stream",
     "text": [
      "Data from 'asthma' sheet exported successfully to /Users/smiie/Desktop/RespiratoryHealth/data_processed/asthma_mortality_data.csv\n"
     ]
    }
   ],
   "source": [
    "import pandas as pd\n",
    "\n",
    "# Path to the Excel file\n",
    "excel_path = './raw_data/Asthma_mortality.xlsx'\n",
    "\n",
    "# Path for the output CSV file\n",
    "output_csv_path = './data_processed/asthma_mortality_data.csv'\n",
    "\n",
    "# Load the 'asthma' sheet into a DataFrame\n",
    "df = pd.read_excel(excel_path, sheet_name='mortality')\n",
    "\n",
    "# Save the DataFrame to a CSV file\n",
    "df.to_csv(output_csv_path, index=False)\n",
    "\n",
    "print(f\"Data from 'asthma' sheet exported successfully to {output_csv_path}\")"
   ]
  },
  {
   "cell_type": "code",
   "execution_count": 2,
   "metadata": {},
   "outputs": [
    {
     "name": "stdout",
     "output_type": "stream",
     "text": [
      "Combined data saved successfully to ./data_processed/combined_asthma_data2.csv\n"
     ]
    }
   ],
   "source": [
    "import pandas as pd\n",
    "\n",
    "# Load the datasets\n",
    "asthma_AQI_data_path = './data_processed/AQI_asthma_combined_data.csv'\n",
    "asthma_mortality_data_path = './data_processed/asthma_mortality_data.csv'\n",
    "\n",
    "asthma_AQI_data = pd.read_csv(asthma_AQI_data_path)\n",
    "asthma_mortality_data = pd.read_csv(asthma_mortality_data_path)\n",
    "\n",
    "# Merge the datasets on 'State' and 'Year'\n",
    "combined_data = pd.merge(asthma_AQI_data, asthma_mortality_data, on=['State', 'Year'], how='inner')\n",
    "\n",
    "# Save the combined data to a new CSV file\n",
    "combined_data_output_path = './data_processed/combined_asthma_data2.csv'\n",
    "combined_data.to_csv(combined_data_output_path, index=False)\n",
    "\n",
    "print(f\"Combined data saved successfully to {combined_data_output_path}\")\n",
    "\n"
   ]
  },
  {
   "cell_type": "code",
   "execution_count": 19,
   "metadata": {},
   "outputs": [],
   "source": [
    "import pandas as pd\n",
    "\n",
    "# Load your CSV file\n",
    "df = pd.read_csv('./data_processed/asthma_data.csv')\n",
    "\n",
    "# Dictionary to map state names to abbreviations\n",
    "state_abbreviations = {\n",
    "    'Alabama': 'AL', 'Alaska': 'AK', 'Arizona': 'AZ', 'Arkansas': 'AR', \n",
    "    'California': 'CA', 'Colorado': 'CO', 'Connecticut': 'CT', 'Delaware': 'DE', \n",
    "    'Florida': 'FL', 'Georgia': 'GA', 'Hawaii': 'HI', 'Idaho': 'ID', \n",
    "    'Illinois': 'IL', 'Indiana': 'IN', 'Iowa': 'IA', 'Kansas': 'KS', \n",
    "    'Kentucky': 'KY', 'Louisiana': 'LA', 'Maine': 'ME', 'Maryland': 'MD', \n",
    "    'Massachusetts': 'MA', 'Michigan': 'MI', 'Minnesota': 'MN', \n",
    "    'Mississippi': 'MS', 'Missouri': 'MO', 'Montana': 'MT', 'Nebraska': 'NE', \n",
    "    'Nevada': 'NV', 'New Hampshire': 'NH', 'New Jersey': 'NJ', \n",
    "    'New Mexico': 'NM', 'New York': 'NY', 'North Carolina': 'NC', \n",
    "    'North Dakota': 'ND', 'Ohio': 'OH', 'Oklahoma': 'OK', 'Oregon': 'OR', \n",
    "    'Pennsylvania': 'PA', 'Rhode Island': 'RI', 'South Carolina': 'SC', \n",
    "    'South Dakota': 'SD', 'Tennessee': 'TN', 'Texas': 'TX', 'Utah': 'UT', \n",
    "    'Vermont': 'VT', 'Virginia': 'VA', 'Washington': 'WA', 'West Virginia': 'WV', \n",
    "    'Wisconsin': 'WI', 'Wyoming': 'WY'\n",
    "}\n",
    "\n",
    "# Map full names to abbreviations\n",
    "df['State Abbreviation'] = df['State'].map(state_abbreviations)\n",
    "\n",
    "# Save the updated CSV\n",
    "df.to_csv('./Dashboard/data/asthma_data_map_abb.csv', index=False)\n"
   ]
  },
  {
   "cell_type": "markdown",
   "metadata": {},
   "source": []
  },
  {
   "cell_type": "code",
   "execution_count": 22,
   "metadata": {},
   "outputs": [
    {
     "name": "stdout",
     "output_type": "stream",
     "text": [
      "Merged dataset saved to: /Users/smiie/Desktop/RespiratoryHealth/Dashboard/data/merged_asthma_mortality_data.csv\n"
     ]
    }
   ],
   "source": [
    "import pandas as pd\n",
    "\n",
    "def merge_datasets():\n",
    "    # Load the current asthma dataset\n",
    "    asthma_data_path = \"./Dashboard/data/asthma_data_map_abb.csv\"\n",
    "    asthma_data = pd.read_csv(asthma_data_path)\n",
    "\n",
    "    # Load the mortality data\n",
    "    mortality_data_path = \"./data_processed/asthma_mortality_data.csv\"\n",
    "    mortality_data = pd.read_csv(mortality_data_path)\n",
    "\n",
    "    # Merge the datasets on 'State Abbreviation' and 'Year'\n",
    "    # Ensure both dataframes have the 'Year' column as integers if they're not\n",
    "    asthma_data['Year'] = asthma_data['Year'].astype(int)\n",
    "    mortality_data['Year'] = mortality_data['Year'].astype(int)\n",
    "\n",
    "    # Merge operation\n",
    "    merged_data = pd.merge(asthma_data, mortality_data, how='left', on=['State', 'Year'])\n",
    "    merged_data = merged_data.reindex(columns=['State Abbreviation'] + [col for col in merged_data.columns if col != 'State Abbreviation'])\n",
    "\n",
    "    # Save the merged dataset back to a CSV file\n",
    "    output_path = \"./Dashboard/data/merged_asthma_mortality_data.csv\"\n",
    "    merged_data.to_csv(output_path, index=False)\n",
    "\n",
    "    print(\"Merged dataset saved to:\", output_path)\n",
    "\n",
    "# Call the function to perform the merge\n",
    "merge_datasets()\n"
   ]
  },
  {
   "cell_type": "code",
   "execution_count": 24,
   "metadata": {},
   "outputs": [
    {
     "name": "stdout",
     "output_type": "stream",
     "text": [
      "Merged data saved to: /Users/smiie/Desktop/RespiratoryHealth/data_processed/merged_aqi_copd_2021.csv\n"
     ]
    }
   ],
   "source": [
    "import pandas as pd\n",
    "\n",
    "# Load the CODP mortality data\n",
    "file_path_copd = \"./raw_data/State_COPD_mortality.csv\"\n",
    "copd_data = pd.read_csv(file_path_copd)\n",
    "\n",
    "# Load the AQI data\n",
    "file_path_aqi = \"./data_processed/summary_aqi_by_state.csv\"\n",
    "aqi_data = pd.read_csv(file_path_aqi)\n",
    "\n",
    "# Filter both datasets for the year 2021 if necessary\n",
    "copd_data = copd_data[copd_data['Year'] == 2021]\n",
    "aqi_data = aqi_data[aqi_data['Year'] == 2021]\n",
    "\n",
    "# Merge the datasets on the State column\n",
    "merged_data = pd.merge(aqi_data, copd_data[['State', 'Age-Adjusted Mortality (per 100,000)']], on='State', how='left')\n",
    "\n",
    "# Save the merged data to a new CSV file\n",
    "output_path = \"./data_processed/merged_aqi_copd_2021.csv\"\n",
    "merged_data.to_csv(output_path, index=False)\n",
    "\n",
    "print(\"Merged data saved to:\", output_path)\n",
    "\n"
   ]
  },
  {
   "cell_type": "code",
   "execution_count": 25,
   "metadata": {},
   "outputs": [],
   "source": [
    "import pandas as pd\n",
    "import matplotlib.pyplot as plt\n",
    "\n",
    "# Convert the Excel file to CSV\n",
    "excel_path = \"./raw_data/life_long_asthma.xlsx\"\n",
    "csv_path = \"./data_processed/life_long_asthma.csv\"\n",
    "\n",
    "# Load the data from Excel\n",
    "data = pd.read_excel(excel_path)\n",
    "\n",
    "# Save as CSV\n",
    "data.to_csv(csv_path, index=False)"
   ]
  },
  {
   "cell_type": "markdown",
   "metadata": {},
   "source": [
    "Match CODP data with AQI"
   ]
  },
  {
   "cell_type": "code",
   "execution_count": 4,
   "metadata": {},
   "outputs": [
    {
     "name": "stdout",
     "output_type": "stream",
     "text": [
      "Merged data saved to: ./data_processed/merged_aqi_copd_2022.csv\n"
     ]
    }
   ],
   "source": [
    "import pandas as pd\n",
    "\n",
    "# Load the CODP mortality data\n",
    "file_path_copd = \"./raw_data/State_COPD_prevalence2022.csv\"\n",
    "copd_data = pd.read_csv(file_path_copd)\n",
    "\n",
    "# Load the AQI data\n",
    "file_path_aqi = \"./data_processed/summary_aqi_by_state2.csv\"\n",
    "aqi_data = pd.read_csv(file_path_aqi)\n",
    "\n",
    "# Filter both datasets for the year 2021 if necessary\n",
    "copd_data = copd_data[copd_data['Year'] == 2022]\n",
    "aqi_data = aqi_data[aqi_data['Year'] == 2022]\n",
    "\n",
    "# Merge the datasets on the State column\n",
    "merged_data = pd.merge(aqi_data, copd_data[['State', 'Age-Adjusted Prevalence (%)']], on='State', how='left')\n",
    "\n",
    "# Save the merged data to a new CSV file\n",
    "output_path = \"./data_processed/merged_aqi_copd_2022.csv\"\n",
    "merged_data.to_csv(output_path, index=False)\n",
    "\n",
    "print(\"Merged data saved to:\", output_path)"
   ]
  }
 ],
 "metadata": {
  "kernelspec": {
   "display_name": "base",
   "language": "python",
   "name": "python3"
  },
  "language_info": {
   "codemirror_mode": {
    "name": "ipython",
    "version": 3
   },
   "file_extension": ".py",
   "mimetype": "text/x-python",
   "name": "python",
   "nbconvert_exporter": "python",
   "pygments_lexer": "ipython3",
   "version": "3.11.8"
  }
 },
 "nbformat": 4,
 "nbformat_minor": 2
}
